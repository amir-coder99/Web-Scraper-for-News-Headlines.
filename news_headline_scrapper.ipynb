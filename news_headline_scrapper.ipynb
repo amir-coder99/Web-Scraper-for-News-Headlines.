{
  "nbformat": 4,
  "nbformat_minor": 0,
  "metadata": {
    "colab": {
      "provenance": [],
      "authorship_tag": "ABX9TyMuoSSjAkYjZl9y452bCy9m"
    },
    "kernelspec": {
      "name": "python3",
      "display_name": "Python 3"
    },
    "language_info": {
      "name": "python"
    }
  },
  "cells": [
    {
      "cell_type": "markdown",
      "source": [
        "# **Web Scraper for News Headlines.**"
      ],
      "metadata": {
        "id": "_ZcH-O-auKBc"
      }
    },
    {
      "cell_type": "code",
      "source": [
        "import requests\n",
        "from bs4 import BeautifulSoup"
      ],
      "metadata": {
        "id": "fu6AIHfEuy6M"
      },
      "execution_count": 8,
      "outputs": []
    },
    {
      "cell_type": "code",
      "source": [
        "def scrape_headlines(url, selectors):\n",
        "    \"\"\"Scrape headlines from a URL using CSS selectors.\"\"\"\n",
        "    response = requests.get(url, headers={'User-Agent': 'Mozilla/5.0'})\n",
        "    response.raise_for_status()\n",
        "    soup = BeautifulSoup(response.text, 'html.parser')\n",
        "    headlines = []\n",
        "    for sel in selectors:\n",
        "        for tag in soup.select(sel):\n",
        "            text = tag.get_text(strip=True)\n",
        "            if text:\n",
        "                headlines.append(text)\n",
        "    return headlines"
      ],
      "metadata": {
        "id": "q_aSC-XovUFr"
      },
      "execution_count": 9,
      "outputs": []
    },
    {
      "cell_type": "code",
      "source": [
        "if __name__ == \"__main__\":\n",
        "    URL = \"https://www.bbc.com/news\"\n",
        "    # Common selectors on BBC News homepage\n",
        "    selectors = [\n",
        "        \"h3.gs-c-promo-heading__title\",  # headlines\n",
        "        \"h2\",  # fallback generic\n",
        "    ]\n",
        "\n",
        "    try:\n",
        "        headlines = scrape_headlines(URL, selectors)\n",
        "        unique = []\n",
        "        for h in headlines:\n",
        "            if h not in unique and len(h) > 20:\n",
        "                unique.append(h)\n",
        "\n",
        "        with open(\"headlines.txt\", \"w\", encoding=\"utf‑8\") as f:\n",
        "            for i, title in enumerate(unique[:20], 1):\n",
        "                f.write(f\"{i}. {title}\\n\")\n",
        "\n",
        "        print(f\"✅ Scraped and saved {len(unique[:20])} headlines to 'headlines.txt'.\")\n",
        "    except Exception as e:\n",
        "        print(\"⚠️ Error scraping:\", e)"
      ],
      "metadata": {
        "colab": {
          "base_uri": "https://localhost:8080/"
        },
        "id": "vRs3Kg_Xve5Q",
        "outputId": "d77c5309-af29-45db-a904-05abfd833ae5"
      },
      "execution_count": 10,
      "outputs": [
        {
          "output_type": "stream",
          "name": "stdout",
          "text": [
            "✅ Scraped and saved 20 headlines to 'headlines.txt'.\n"
          ]
        }
      ]
    },
    {
      "cell_type": "code",
      "source": [
        "!cat headlines.txt"
      ],
      "metadata": {
        "colab": {
          "base_uri": "https://localhost:8080/"
        },
        "id": "ddb9KG0Jv-6M",
        "outputId": "dae85453-3b99-4ecf-f953-b94f72cca1db"
      },
      "execution_count": 11,
      "outputs": [
        {
          "output_type": "stream",
          "name": "stdout",
          "text": [
            "1. Putin and Trump's relationship has soured - but behind the posturing, a Ukraine deal is still possible\n",
            "2. Texas Republicans vote to arrest Democrats blocking redistricting plan\n",
            "3. Watch: Fireworks ignite as blaze hits Japanese festival launch boats\n",
            "4. BP says it makes biggest oil and gas find in 25 years\n",
            "5. US may demand $15,000 deposit for visas\n",
            "6. Disfigured, shamed and forgotten: BBC visits the Korean survivors of the Hiroshima bomb\n",
            "7. US attorney general orders grand jury hearings on Trump-Russia probe\n",
            "8. Aboriginal group launches legal bid to stop Brisbane Olympic stadium\n",
            "9. Why Donald Trump is talking about actress Sydney Sweeney\n",
            "10. India calls Trump's tariff threat over Russian oil 'unjustified'\n",
            "11. Danish zoo asks for unwanted pets to feed its predators\n",
            "12. Convicted rapist fighting to remain in parliament in Australia\n",
            "13. China reports 7,000 cases of chikungunya virus\n",
            "14. Miracle product or pollution nightmare? Why a deal to cut plastic waste is hard to reach\n",
            "15. Why were US job numbers which riled Trump revised down by so much?\n",
            "16. 'Totally torn apart': How decline of Morecambe FC threatens a whole community\n",
            "17. I'm a bodybuilder but bowel cancer in my 30s nearly killed me\n",
            "18. Chris Hemsworth on facing fears, ageing and return of Thor\n",
            "19. 'I'm upset, angry and disgusted,' Epstein accuser tells BBC\n",
            "20. Watch: Florida police officer removes alligator from family's pool with bare hands\n"
          ]
        }
      ]
    },
    {
      "cell_type": "code",
      "source": [
        "# Read and display the contents of headlines.txt\n",
        "with open(\"headlines.txt\", \"r\", encoding=\"utf-8\") as file:\n",
        "    contents = file.read()\n",
        "    print(contents)"
      ],
      "metadata": {
        "colab": {
          "base_uri": "https://localhost:8080/"
        },
        "id": "7mEjPPo0y3kd",
        "outputId": "f0d98616-2115-49d4-e8b1-8665e65509e2"
      },
      "execution_count": 12,
      "outputs": [
        {
          "output_type": "stream",
          "name": "stdout",
          "text": [
            "1. Putin and Trump's relationship has soured - but behind the posturing, a Ukraine deal is still possible\n",
            "2. Texas Republicans vote to arrest Democrats blocking redistricting plan\n",
            "3. Watch: Fireworks ignite as blaze hits Japanese festival launch boats\n",
            "4. BP says it makes biggest oil and gas find in 25 years\n",
            "5. US may demand $15,000 deposit for visas\n",
            "6. Disfigured, shamed and forgotten: BBC visits the Korean survivors of the Hiroshima bomb\n",
            "7. US attorney general orders grand jury hearings on Trump-Russia probe\n",
            "8. Aboriginal group launches legal bid to stop Brisbane Olympic stadium\n",
            "9. Why Donald Trump is talking about actress Sydney Sweeney\n",
            "10. India calls Trump's tariff threat over Russian oil 'unjustified'\n",
            "11. Danish zoo asks for unwanted pets to feed its predators\n",
            "12. Convicted rapist fighting to remain in parliament in Australia\n",
            "13. China reports 7,000 cases of chikungunya virus\n",
            "14. Miracle product or pollution nightmare? Why a deal to cut plastic waste is hard to reach\n",
            "15. Why were US job numbers which riled Trump revised down by so much?\n",
            "16. 'Totally torn apart': How decline of Morecambe FC threatens a whole community\n",
            "17. I'm a bodybuilder but bowel cancer in my 30s nearly killed me\n",
            "18. Chris Hemsworth on facing fears, ageing and return of Thor\n",
            "19. 'I'm upset, angry and disgusted,' Epstein accuser tells BBC\n",
            "20. Watch: Florida police officer removes alligator from family's pool with bare hands\n",
            "\n"
          ]
        }
      ]
    },
    {
      "cell_type": "code",
      "source": [
        "# Download headlines.txt file in your device\n",
        "#from google.colab import files\n",
        "#files.download(\"headlines.txt\")"
      ],
      "metadata": {
        "colab": {
          "base_uri": "https://localhost:8080/",
          "height": 17
        },
        "id": "uNipVgy-zzzT",
        "outputId": "5237e620-82ce-4f24-e490-31599517bfe0"
      },
      "execution_count": 13,
      "outputs": [
        {
          "output_type": "display_data",
          "data": {
            "text/plain": [
              "<IPython.core.display.Javascript object>"
            ],
            "application/javascript": [
              "\n",
              "    async function download(id, filename, size) {\n",
              "      if (!google.colab.kernel.accessAllowed) {\n",
              "        return;\n",
              "      }\n",
              "      const div = document.createElement('div');\n",
              "      const label = document.createElement('label');\n",
              "      label.textContent = `Downloading \"${filename}\": `;\n",
              "      div.appendChild(label);\n",
              "      const progress = document.createElement('progress');\n",
              "      progress.max = size;\n",
              "      div.appendChild(progress);\n",
              "      document.body.appendChild(div);\n",
              "\n",
              "      const buffers = [];\n",
              "      let downloaded = 0;\n",
              "\n",
              "      const channel = await google.colab.kernel.comms.open(id);\n",
              "      // Send a message to notify the kernel that we're ready.\n",
              "      channel.send({})\n",
              "\n",
              "      for await (const message of channel.messages) {\n",
              "        // Send a message to notify the kernel that we're ready.\n",
              "        channel.send({})\n",
              "        if (message.buffers) {\n",
              "          for (const buffer of message.buffers) {\n",
              "            buffers.push(buffer);\n",
              "            downloaded += buffer.byteLength;\n",
              "            progress.value = downloaded;\n",
              "          }\n",
              "        }\n",
              "      }\n",
              "      const blob = new Blob(buffers, {type: 'application/binary'});\n",
              "      const a = document.createElement('a');\n",
              "      a.href = window.URL.createObjectURL(blob);\n",
              "      a.download = filename;\n",
              "      div.appendChild(a);\n",
              "      a.click();\n",
              "      div.remove();\n",
              "    }\n",
              "  "
            ]
          },
          "metadata": {}
        },
        {
          "output_type": "display_data",
          "data": {
            "text/plain": [
              "<IPython.core.display.Javascript object>"
            ],
            "application/javascript": [
              "download(\"download_f2f8a959-71e3-46e5-8c48-6f5b3ca306f9\", \"headlines.txt\", 1420)"
            ]
          },
          "metadata": {}
        }
      ]
    }
  ]
}